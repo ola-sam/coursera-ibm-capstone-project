{
    "cells": [
        {
            "cell_type": "markdown",
            "metadata": {},
            "source": "# Clustering Neighborhoods in Pittsburgh for Pharmacy Location Intelligence"
        },
        {
            "cell_type": "markdown",
            "metadata": {},
            "source": "This is a project for my IBM Data Science Capstone on Coursera."
        },
        {
            "cell_type": "markdown",
            "metadata": {},
            "source": "# Introduction"
        },
        {
            "cell_type": "markdown",
            "metadata": {},
            "source": "The importance of Pharmacies in neighborhoods cannot be over emphasized. About 70% of Americans are on at least one prescription drug and over 50% of Americans are on at least two prescription drugs. In some communities, Pharmacists may be the sole source of clinical advice to the people. \n\nSome experts argue that, given the widening scope of services many pharmacies are providing, including physicals, immunizations, drug counseling, sexually transmitted infection screening, other laboratory testing and even access to naloxone, the medication used to reverse opioid overdose. Pharmacies are increasingly important pieces of the national conversation around health care.\n\nThis project will focus on clustering pittsburgh neighborhoods for pharmacy location intelligence. I will be using the Foursquare API for location analysis. I will perform data mining and data preparation using required libraries such as pandas, numpy etc. I will segment and cluster neighborhoods using the k-means algorithm. The folium library will be used to visualize the neighborhoods and their respective clusters."
        },
        {
            "cell_type": "markdown",
            "metadata": {},
            "source": "# Business Problem"
        },
        {
            "cell_type": "markdown",
            "metadata": {},
            "source": "Pittsburgh is a city in the state of Pennsylvania with a population of about 302,407(2018) and is the county seat of Allegheny. Allegheny County historically has been one of the oldest counties in the US. This emphasizes one of the importance of pharmacy in the county's neighborhood. Most seniors who have healthcare needs such as refilling their prescription may not have the opportunity of driving miles which in effect may cause them not taking their medications consistently. \n\nIn some areas where there is demonstrable need for access to naloxone, pharmacy closures or lack thereof can frustrate treatment. A research conducted in Cook county, Illinois shows that community areas where opioid-related deaths are higher than the Chicago average are in areas where as at 2017 has one or fewer active pharmacies. \u201cA lot of public attention focuses on insurance, but that\u2019s not enough, even if medications are affordable, if the pharmacy isn\u2019t accessible, they're not accessible.\u201d Dima Qato.\n\nThis project is targeted at independent pharmacies, chain pharmacies, the City of Pittsburgh, and other healthcare stakeholders\n"
        },
        {
            "cell_type": "markdown",
            "metadata": {},
            "source": "# Data"
        },
        {
            "cell_type": "markdown",
            "metadata": {},
            "source": "I will be using the Foursquare location data for my clustering analysis. In addition to the foursquare data I will perform webscraping to source for the addresses and list of Pharmacies in Pittsburgh area for mapping purpose. Pittsburgh census data from Data.gov by zip codes and list of overdose in pttsburgh (2017) by zip codes will also be used in this project."
        },
        {
            "cell_type": "code",
            "execution_count": 2,
            "metadata": {},
            "outputs": [
                {
                    "name": "stdout",
                    "output_type": "stream",
                    "text": "libraries imported\n"
                }
            ],
            "source": "import pandas as pd #library to handle data analysis\n\npd.set_option('display.max_columns', None)\npd.set_option('display.max_rows', None)\n\nimport csv\n\nimport numpy as np # library to handle data in a vectorized manner\n\nimport json # library to handle JSON files\n\nfrom geopy.geocoders import Nominatim # convert an address into latitude and longitude values\n\nfrom bs4 import BeautifulSoup\n\nimport requests\n\nfrom pandas.io.json import json_normalize # tranform JSON file into a pandas dataframe\n\n# Matplotlib and associated plotting modules\nimport matplotlib.cm as cm\nimport matplotlib.colors as colors\nimport matplotlib as plt\n%matplotlib inline\n\n#import folium # map rendering library\n\n# import k-means from clustering stage\nfrom sklearn.cluster import KMeans\n\nprint('libraries imported')"
        },
        {
            "cell_type": "markdown",
            "metadata": {},
            "source": "##### Loading pittsburgh zipcodes with its longitude and latitude"
        },
        {
            "cell_type": "code",
            "execution_count": 3,
            "metadata": {},
            "outputs": [
                {
                    "data": {
                        "text/html": "<div>\n<style scoped>\n    .dataframe tbody tr th:only-of-type {\n        vertical-align: middle;\n    }\n\n    .dataframe tbody tr th {\n        vertical-align: top;\n    }\n\n    .dataframe thead th {\n        text-align: right;\n    }\n</style>\n<table border=\"1\" class=\"dataframe\">\n  <thead>\n    <tr style=\"text-align: right;\">\n      <th></th>\n      <th>postcode</th>\n      <th>latitude</th>\n      <th>longitude</th>\n    </tr>\n  </thead>\n  <tbody>\n    <tr>\n      <th>0</th>\n      <td>15122</td>\n      <td>40.3651</td>\n      <td>-79.8973</td>\n    </tr>\n    <tr>\n      <th>1</th>\n      <td>15201</td>\n      <td>40.4722</td>\n      <td>-79.9529</td>\n    </tr>\n    <tr>\n      <th>2</th>\n      <td>15202</td>\n      <td>40.5015</td>\n      <td>-80.0682</td>\n    </tr>\n    <tr>\n      <th>3</th>\n      <td>15203</td>\n      <td>40.4256</td>\n      <td>-79.9771</td>\n    </tr>\n    <tr>\n      <th>4</th>\n      <td>15204</td>\n      <td>40.4509</td>\n      <td>-80.0552</td>\n    </tr>\n  </tbody>\n</table>\n</div>",
                        "text/plain": "   postcode  latitude  longitude\n0     15122   40.3651   -79.8973\n1     15201   40.4722   -79.9529\n2     15202   40.5015   -80.0682\n3     15203   40.4256   -79.9771\n4     15204   40.4509   -80.0552"
                    },
                    "execution_count": 3,
                    "metadata": {},
                    "output_type": "execute_result"
                }
            ],
            "source": "path=r'C:\\Users\\Olawale\\Desktop\\IBM Data Science\\PittZip_geocode.csv'\npitt_geodata=pd.read_csv(path, engine='python')\n\n#Creating a cleaner dataframe pitts_neborhood\npitts_neborhood=pitt_geodata[['postcode', 'latitude', 'longitude']]\npitts_neborhood.head()"
        },
        {
            "cell_type": "markdown",
            "metadata": {},
            "source": "##### Using Foursquare API to explore pittsburgh neighborhood data"
        },
        {
            "cell_type": "code",
            "execution_count": 4,
            "metadata": {},
            "outputs": [
                {
                    "name": "stdout",
                    "output_type": "stream",
                    "text": "CLIENT_ID, CLIENT_SECRET & VERSION Processed\n"
                }
            ],
            "source": "# The code was removed by Watson Studio for sharing."
        },
        {
            "cell_type": "code",
            "execution_count": 7,
            "metadata": {},
            "outputs": [
                {
                    "name": "stdout",
                    "output_type": "stream",
                    "text": "Latitude and longitude values of 15209 are 40.4976, -79.9781.\n"
                }
            ],
            "source": "neighborhood_latitude = pitts_neborhood.loc[9, 'latitude'] # neighborhood latitude value\nneighborhood_longitude = pitts_neborhood.loc[9, 'longitude'] # neighborhood longitude value\nneighborhood_zip = pitts_neborhood.loc[9, 'postcode'] # neighborhood name\n\nprint('Latitude and longitude values of {} are {}, {}.'.format(neighborhood_zip, \n                                                               neighborhood_latitude, \n                                                               neighborhood_longitude))"
        },
        {
            "cell_type": "code",
            "execution_count": 8,
            "metadata": {},
            "outputs": [
                {
                    "data": {
                        "text/plain": "{'meta': {'code': 200, 'requestId': '5e548c771a4b0a001b39d2a0'},\n 'response': {'headerLocation': 'Shaler Township',\n  'headerFullLocation': 'Shaler Township',\n  'headerLocationGranularity': 'city',\n  'totalResults': 8,\n  'suggestedBounds': {'ne': {'lat': 40.5021000045, 'lng': -79.97219336328281},\n   'sw': {'lat': 40.493099995499996, 'lng': -79.98400663671718}},\n  'groups': [{'type': 'Recommended Places',\n    'name': 'recommended',\n    'items': [{'reasons': {'count': 0,\n       'items': [{'summary': 'This spot is popular',\n         'type': 'general',\n         'reasonName': 'globalInteractionReason'}]},\n      'venue': {'id': '4bb3d58114cfd13aa89e16ab',\n       'name': \"Rita's Italian Ice & Frozen Custard\",\n       'location': {'address': '1320 Babcock Blvd',\n        'lat': 40.49596561608586,\n        'lng': -79.97646061587949,\n        'labeledLatLngs': [{'label': 'display',\n          'lat': 40.49596561608586,\n          'lng': -79.97646061587949}],\n        'distance': 228,\n        'postalCode': '15209',\n        'cc': 'US',\n        'city': 'Pittsburgh',\n        'state': 'PA',\n        'country': 'United States',\n        'formattedAddress': ['1320 Babcock Blvd',\n         'Pittsburgh, PA 15209',\n         'United States']},\n       'categories': [{'id': '4bf58dd8d48988d1c9941735',\n         'name': 'Ice Cream Shop',\n         'pluralName': 'Ice Cream Shops',\n         'shortName': 'Ice Cream',\n         'icon': {'prefix': 'https://ss3.4sqi.net/img/categories_v2/food/icecream_',\n          'suffix': '.png'},\n         'primary': True}],\n       'photos': {'count': 0, 'groups': []}},\n      'referralId': 'e-0-4bb3d58114cfd13aa89e16ab-0'},\n     {'reasons': {'count': 0,\n       'items': [{'summary': 'This spot is popular',\n         'type': 'general',\n         'reasonName': 'globalInteractionReason'}]},\n      'venue': {'id': '4e31c42f2fb6ede816e33fb0',\n       'name': 'Redbox',\n       'location': {'address': '1620 Babcock Blvd',\n        'lat': 40.49871,\n        'lng': -79.97925,\n        'labeledLatLngs': [{'label': 'display',\n          'lat': 40.49871,\n          'lng': -79.97925}],\n        'distance': 157,\n        'postalCode': '15209',\n        'cc': 'US',\n        'city': 'Pittsburgh',\n        'state': 'PA',\n        'country': 'United States',\n        'formattedAddress': ['1620 Babcock Blvd',\n         'Pittsburgh, PA 15209',\n         'United States']},\n       'categories': [{'id': '4bf58dd8d48988d126951735',\n         'name': 'Video Store',\n         'pluralName': 'Video Stores',\n         'shortName': 'Video Store',\n         'icon': {'prefix': 'https://ss3.4sqi.net/img/categories_v2/shops/video_',\n          'suffix': '.png'},\n         'primary': True}],\n       'photos': {'count': 0, 'groups': []}},\n      'referralId': 'e-0-4e31c42f2fb6ede816e33fb0-1'},\n     {'reasons': {'count': 0,\n       'items': [{'summary': 'This spot is popular',\n         'type': 'general',\n         'reasonName': 'globalInteractionReason'}]},\n      'venue': {'id': '4b623d63f964a520133e2ae3',\n       'name': \"Shop 'n Save\",\n       'location': {'address': '1620 Babcock Blvd',\n        'crossStreet': 'Evergreen Rd.',\n        'lat': 40.49911413731258,\n        'lng': -79.97934718013238,\n        'labeledLatLngs': [{'label': 'display',\n          'lat': 40.49911413731258,\n          'lng': -79.97934718013238}],\n        'distance': 198,\n        'postalCode': '15209',\n        'cc': 'US',\n        'city': 'Pittsburgh',\n        'state': 'PA',\n        'country': 'United States',\n        'formattedAddress': ['1620 Babcock Blvd (Evergreen Rd.)',\n         'Pittsburgh, PA 15209',\n         'United States']},\n       'categories': [{'id': '4bf58dd8d48988d118951735',\n         'name': 'Grocery Store',\n         'pluralName': 'Grocery Stores',\n         'shortName': 'Grocery Store',\n         'icon': {'prefix': 'https://ss3.4sqi.net/img/categories_v2/shops/food_grocery_',\n          'suffix': '.png'},\n         'primary': True}],\n       'photos': {'count': 0, 'groups': []}},\n      'referralId': 'e-0-4b623d63f964a520133e2ae3-2'},\n     {'reasons': {'count': 0,\n       'items': [{'summary': 'This spot is popular',\n         'type': 'general',\n         'reasonName': 'globalInteractionReason'}]},\n      'venue': {'id': '4c6ae34a6d390f47a47a099a',\n       'name': 'The Produce Room At Shop N Save',\n       'location': {'address': '1601-1633 Evergreen Ave',\n        'lat': 40.49929145471884,\n        'lng': -79.9792986637024,\n        'labeledLatLngs': [{'label': 'display',\n          'lat': 40.49929145471884,\n          'lng': -79.9792986637024}],\n        'distance': 213,\n        'postalCode': '15209',\n        'cc': 'US',\n        'city': 'Shaler Township',\n        'state': 'PA',\n        'country': 'United States',\n        'formattedAddress': ['1601-1633 Evergreen Ave',\n         'Shaler Township, PA 15209',\n         'United States']},\n       'categories': [{'id': '4bf58dd8d48988d1fa941735',\n         'name': 'Farmers Market',\n         'pluralName': 'Farmers Markets',\n         'shortName': \"Farmer's Market\",\n         'icon': {'prefix': 'https://ss3.4sqi.net/img/categories_v2/shops/food_farmersmarket_',\n          'suffix': '.png'},\n         'primary': True}],\n       'photos': {'count': 0, 'groups': []}},\n      'referralId': 'e-0-4c6ae34a6d390f47a47a099a-3'},\n     {'reasons': {'count': 0,\n       'items': [{'summary': 'This spot is popular',\n         'type': 'general',\n         'reasonName': 'globalInteractionReason'}]},\n      'venue': {'id': '4d9772f8af3d236a2e2c24c7',\n       'name': \"Demore's Pizza\",\n       'location': {'address': '1306 Evergreen Ave',\n        'lat': 40.49535,\n        'lng': -79.975945,\n        'labeledLatLngs': [{'label': 'display',\n          'lat': 40.49535,\n          'lng': -79.975945}],\n        'distance': 309,\n        'postalCode': '15209',\n        'cc': 'US',\n        'city': 'Pittsburgh',\n        'state': 'PA',\n        'country': 'United States',\n        'formattedAddress': ['1306 Evergreen Ave',\n         'Pittsburgh, PA 15209',\n         'United States']},\n       'categories': [{'id': '4bf58dd8d48988d1ca941735',\n         'name': 'Pizza Place',\n         'pluralName': 'Pizza Places',\n         'shortName': 'Pizza',\n         'icon': {'prefix': 'https://ss3.4sqi.net/img/categories_v2/food/pizza_',\n          'suffix': '.png'},\n         'primary': True}],\n       'photos': {'count': 0, 'groups': []}},\n      'referralId': 'e-0-4d9772f8af3d236a2e2c24c7-4'},\n     {'reasons': {'count': 0,\n       'items': [{'summary': 'This spot is popular',\n         'type': 'general',\n         'reasonName': 'globalInteractionReason'}]},\n      'venue': {'id': '4dc6ecb42271f2705151eb9d',\n       'name': \"Kelly's Dari Delite\",\n       'location': {'lat': 40.500002902903674,\n        'lng': -79.98069996330914,\n        'labeledLatLngs': [{'label': 'display',\n          'lat': 40.500002902903674,\n          'lng': -79.98069996330914}],\n        'distance': 346,\n        'cc': 'US',\n        'city': 'Pittsburgh',\n        'state': 'PA',\n        'country': 'United States',\n        'formattedAddress': ['Pittsburgh, PA', 'United States']},\n       'categories': [{'id': '4bf58dd8d48988d1c9941735',\n         'name': 'Ice Cream Shop',\n         'pluralName': 'Ice Cream Shops',\n         'shortName': 'Ice Cream',\n         'icon': {'prefix': 'https://ss3.4sqi.net/img/categories_v2/food/icecream_',\n          'suffix': '.png'},\n         'primary': True}],\n       'photos': {'count': 0, 'groups': []}},\n      'referralId': 'e-0-4dc6ecb42271f2705151eb9d-5'},\n     {'reasons': {'count': 0,\n       'items': [{'summary': 'This spot is popular',\n         'type': 'general',\n         'reasonName': 'globalInteractionReason'}]},\n      'venue': {'id': '559c8441498ee31a08092fab',\n       'name': 'NYCE Inc',\n       'location': {'address': '105 Mansion Ave',\n        'lat': 40.498290000000004,\n        'lng': -79.97327800000001,\n        'labeledLatLngs': [{'label': 'display',\n          'lat': 40.498290000000004,\n          'lng': -79.97327800000001}],\n        'distance': 415,\n        'postalCode': '15209',\n        'cc': 'US',\n        'city': 'Pittsburgh',\n        'state': 'PA',\n        'country': 'United States',\n        'formattedAddress': ['105 Mansion Ave',\n         'Pittsburgh, PA 15209',\n         'United States']},\n       'categories': [{'id': '5454144b498ec1f095bff2f2',\n         'name': 'Construction & Landscaping',\n         'pluralName': 'Construction & Landscaping',\n         'shortName': 'Construction',\n         'icon': {'prefix': 'https://ss3.4sqi.net/img/categories_v2/shops/realestate_',\n          'suffix': '.png'},\n         'primary': True}],\n       'photos': {'count': 0, 'groups': []}},\n      'referralId': 'e-0-559c8441498ee31a08092fab-6'},\n     {'reasons': {'count': 0,\n       'items': [{'summary': 'This spot is popular',\n         'type': 'general',\n         'reasonName': 'globalInteractionReason'}]},\n      'venue': {'id': '4bff0557369476b083408d1f',\n       'name': 'Around The Corner Bar And Grill',\n       'location': {'address': '1707 Babcock Blvd',\n        'lat': 40.50054043912362,\n        'lng': -79.98113842318327,\n        'labeledLatLngs': [{'label': 'display',\n          'lat': 40.50054043912362,\n          'lng': -79.98113842318327}],\n        'distance': 416,\n        'postalCode': '15209',\n        'cc': 'US',\n        'city': 'Millvale',\n        'state': 'PA',\n        'country': 'United States',\n        'formattedAddress': ['1707 Babcock Blvd',\n         'Millvale, PA 15209',\n         'United States']},\n       'categories': [{'id': '4bf58dd8d48988d116941735',\n         'name': 'Bar',\n         'pluralName': 'Bars',\n         'shortName': 'Bar',\n         'icon': {'prefix': 'https://ss3.4sqi.net/img/categories_v2/nightlife/pub_',\n          'suffix': '.png'},\n         'primary': True}],\n       'photos': {'count': 0, 'groups': []}},\n      'referralId': 'e-0-4bff0557369476b083408d1f-7'}]}]}}"
                    },
                    "execution_count": 8,
                    "metadata": {},
                    "output_type": "execute_result"
                }
            ],
            "source": "# Calling the Foursquare API\nsearch_query='15209'\nradius=500\nLIMIT=100\n\n\nurl = 'https://api.foursquare.com/v2/venues/explore?client_id={}&client_secret={}&ll={},{}&v={}&radius={}&limit={}'.format(\n    CLIENT_ID, CLIENT_SECRET, neighborhood_latitude, neighborhood_longitude, VERSION, radius, LIMIT)\n\n\nresults = requests.get(url).json()\nresults"
        },
        {
            "cell_type": "markdown",
            "metadata": {},
            "source": "##### Webscraping Pittsburgh list of Pharmacy data"
        },
        {
            "cell_type": "code",
            "execution_count": 9,
            "metadata": {},
            "outputs": [],
            "source": "url=requests.get('https://www.rxlist.com/pharmacy/pittsburgh-pa_pharmacies.htm').text\nsoup=BeautifulSoup(url, 'lxml')"
        },
        {
            "cell_type": "code",
            "execution_count": 10,
            "metadata": {},
            "outputs": [
                {
                    "name": "stdout",
                    "output_type": "stream",
                    "text": "Rite Aid Pharmacy #10937 623 Smithfield StPittsburgh,PA 15222 (412) 471-8882\nCVS Pharmacy #5100 429 Smithfield StPittsburgh,PA 15222 (412) 261-4846\nCVS Pharmacy #4008 242 5th AvePittsburgh,PA 15222 (412) 566-2619\nAHN Pharmacy #5 120 5th Ave FL 3Pittsburgh,PA 15222 (412) 471-5901\nCVS Pharmacy #4133 520 Penn AveWilkinsburg,PA 15221 (412) 243-6048\nRite Aid Pharmacy #10936 519 Penn AvePittsburgh,PA 15222 (412) 391-0969\nMercy Health Center Pharmacy 1515 Locust St Ste 1Pittsburgh,PA 15219 (412) 232-7672\nGiant Eagle Pharmacy #477 318 Cedar AvePittsburgh,PA 15212 (412) 321-3553\nRite Aid Pharmacy #10928 623 E Ohio StPittsburgh,PA 15212 (412) 322-1566\nMedicine Shoppe Pharmacy #1846 330 S 9th St Ste 180Pittsburgh,PA 15203 (412) 697-4880\nRite Aid Pharmacy #4965 201 Grace StPittsburgh,PA 15211 (412) 381-1464\nAGH Apothecary Pharmacy 320 E North Ave Ste 111Pittsburgh,PA 15212 (412) 359-8677\nGiant Eagle Pharmacy #61 2021 Wharton StPittsburgh,PA 15203 (412) 488-1802\nRite Aid Pharmacy #10921 1915 E Carson StPittsburgh,PA 15203 (412) 481-8818\nHilltop Pharmacy 818 E Warrington AvePittsburgh,PA 15210 (412) 431-5766\nWaltmire Pharmacy 1435 Spring Garden AvePittsburgh,PA 15212 (412) 323-1801\nRite Aid Pharmacy #3459 802 Pennsylvania AvePittsburgh,PA 15233 (412) 231-0868\nRite Aid Pharmacy #273 2300 Jane StPittsburgh,PA 15203 (412) 431-6773\nWestern Psychiatric Institute & Clinic Inpatient Pharmacy 3811 Ohara StPittsburgh,PA 15213 (412) 624-1000\nRite Aid Pharmacy #269 230 Hays AvePittsburgh,PA 15210 (412) 431-8282\nHiebers Pharmacy 3500 5th Ave Ste 101Pittsburgh,PA 15213 (412) 681-6400\nMagee Womens Hospital Inpatient Pharmacy 300 Halket StPittsburgh,PA 15213 (412) 641-4356\nUPMC Magee Womens Hospital Outpatient Pharmacy 300 Halket StPittsburgh,PA 15213 (412) 641-4355\nUPMC Falk Pharmacy 3601 5th Ave RM 211Pittsburgh,PA 15213 (412) 605-3903\nForbes Pharmacy 3501 Forbes Ave Ste 756Pittsburgh,PA 15213 (412) 246-6160\nLifecare Hospital Of Pittsburgh Inpatient Pharmacy 225 Penn AveWilkinsburg,PA 15221 (412) 856-2400\nLifecare Inpatient Pharmacy 225 Penn AveWilkinsburg,PA 15221 (412) 247-2393\nRite Aid Pharmacy #10930 3700 Forbes AvePittsburgh,PA 15213 (412) 681-1332\nTriad Isotopes Pharmacy 333 33rd StPittsburgh,PA 15201 (412) 621-7811\nUniversity Pharmacy 103 University Pl Ste 500Pittsburgh,PA 15213 (412) 383-1850\nCVS Pharmacy #4369 4610 Centre AvePittsburgh,PA 15213 (412) 683-8827\nAllegheny County Health Department Pharmacy 3901 Penn AvePittsburgh,PA 15224 (412) 578-8168\nRite Aid Pharmacy #2798 3939 Butler StPittsburgh,PA 15201 (412) 682-6970\nGiant Eagle Pharmacy #74 1165 McKinney LnPittsburgh,PA 15220 (412) 921-1610\nRite Aid Pharmacy #10926 1222 Brownsville RdPittsburgh,PA 15210 (412) 884-3356\nWilson Pharmacy 4101 Penn Ave Ste APittsburgh,PA 15224 (412) 621-6471\nRite Aid Pharmacy #10939 4411 Howley StPittsburgh,PA 15224 (412) 621-9987\nUPMC Childrens Hospital Outpatient Pharmacy 4401 Penn AvePittsburgh,PA 15224 (412) 692-9200\nAccuserv Pharmacy 5020 Centre AvePittsburgh,PA 15213 (412) 586-5410\nMedicap Pharmacy #8079 225 Grant AveMillvale,PA 15209 (412) 821-1524\nHillman Pharmacy 5115 Centre Ave Ste AG-30.1Pittsburgh,PA 15232 (412) 623-5999\nLincoln Pharmacy 232 North AvePittsburgh,PA 15209 (412) 821-2379\nRite Aid Pharmacy #10931 2501 Banksville RdPittsburgh,PA 15216 (412) 571-2550\nHometown Pharmacy #5 2103 Noblestown RdPittsburgh,PA 15205 (412) 921-7731\nSchillers Pharmacy 811 S Aiken AvePittsburgh,PA 15232 (412) 621-5900\nCVS Pharmacy #3189 500 Brookline BlvdPittsburgh,PA 15226 (412) 531-2190\nUPMC Mercy Hospital Inpatient Pharmacy 1400 Locust StPittsburgh,PA 15219 (412) 232-8015\nAllegheny General Hospital Inpatient Pharmacy 320 E North Ave FL 2Pittsburgh,PA 15212 (412) 359-4774\nVA Pittsburgh Healthcare Outpatient Pharmacy University Dr CPittsburgh,PA 15240 (412) 360-6210\nVA Pittsburgh Healthcare System Inpatient Outpatient Pharmacy University Dr CPittsburgh,PA 15240 (412) 365-4900\nUPMC Presbyterian Pharmacy 200 Lothrop StPittsburgh,PA 15213 (412) 647-3350\nCVS Pharmacy #2348 3440 Forbes AvePittsburgh,PA 15213 (412) 687-4181\nChildrens Hospital Pittsburgh UPMC Inpatient Pharmacy 4401 Penn AvePittsburgh,PA 15224 (412) 692-5325\nWestern Pennsylvania Hospital Inpatient Pharmacy 4800 Friendship AvePittsburgh,PA 15224 (412) 578-5238\nUPMC Shadyside Hospital Inpatient Pharmacy 5230 Centre AvePittsburgh,PA 15232 (412) 623-6399\nRite Aid Pharmacy #274 1700 Murray AvePittsburgh,PA 15217 (412) 521-3900\nUPMC St Margaret Memorial Hospital Inpatient Pharmacy 815 Freeport RdPittsburgh,PA 15215 (412) 784-4125\nCVS Pharmacy #2333 5242 Clairton BlvdPittsburgh,PA 15236 (412) 885-5864\nWalgreens Pharmacy #9188 4 Old Clairton RdPittsburgh,PA 15236 (412) 650-7354\nJefferson Hospital Inpatient Pharmacy 565 Coal Valley RdPittsburgh,PA 15236 (412) 469-5265\nUPMC-Passavant Hospital Inpatient Pharmacy 9100 Babcock BlvdPittsburgh,PA 15237 (412) 367-6700\nMc Keesport Hospital Inpatient Pharmacy 1500 5th AveMcKeesport,PA 15132 (412) 664-2262\nForbes Regional Hospital Inpatient Pharmacy 2570 Haymaker RdMonroeville,PA 15146 (412) 858-2797\nAccredo Therapeutic Pharmacy 3000 Ericsson Dr Ste 100Warrendale,PA 15086 (724) 772-6000\nMonongahela Valley Hospital Inpatient Pharmacy 1163 Country Club RdMonongahela,PA 15063 (724) 258-1032\nAllegheny Valley Hospital Inpatient Pharmacy 1301 Carlisle StNatrona Heights,PA 15065 (724) 226-7294\nWashington Health System Inpatient Pharmacy 155 Wilson AveWashington,PA 15301 (724) 223-3266\nCVS Pharmacy #4245 175 W Beau StWashington,PA 15301 (724) 222-0470\nWestmoreland Regional Hospital Pharmacy 532 W Pittsburgh StGreensburg,PA 15601 (724) 832-4337\nHeritage Valley Health System Inpatient Pharmacy 1000 Dutch Ridge RdBeaver,PA 15009 (724) 773-2174\nUniontown Hospital Inpatient Pharmacy 500 W Berkeley StUniontown,PA 15401 (724) 430-5297\nJameson Memorial Hospital Inpatient Pharmacy 1211 Wilmington AveNew Castle,PA 16105 (724) 656-4076\nMedical Park Home Infusion Pharmacy Wheeling Hospital Medical ParkWheeling,WV 26003 (304) 243-3756\nWheeling Hospital Inpatient Pharmacy 1 Medical ParkWheeling,WV 26003 (304) 243-3278\nIndiana Regional Medical Center Inpatient Pharmacy 835 Hospital RdIndiana,PA 15701 (724) 357-7085\nPharmacy Locater Tool Including 24 Hour, Pharmacies\n"
                }
            ],
            "source": "tags = soup('p')\npharmalist=list()\n\nfor tag in tags:\n    if len(tag)<1:continue\n    words=tag.text\n    if not \"Pharmacy\" in words: continue\n    for line in words.splitlines():\n        lines = line.strip()\n        if lines.startswith('Find'):continue\n        pharmalist.append(lines)\n        print (lines)\n#print(pharmalist[0:9])"
        },
        {
            "cell_type": "markdown",
            "metadata": {},
            "source": "##### Loading Pittsburgh 2017 fatal overdose incident file by postcode"
        },
        {
            "cell_type": "code",
            "execution_count": 12,
            "metadata": {},
            "outputs": [
                {
                    "data": {
                        "text/html": "<div>\n<style scoped>\n    .dataframe tbody tr th:only-of-type {\n        vertical-align: middle;\n    }\n\n    .dataframe tbody tr th {\n        vertical-align: top;\n    }\n\n    .dataframe thead th {\n        text-align: right;\n    }\n</style>\n<table border=\"1\" class=\"dataframe\">\n  <thead>\n    <tr style=\"text-align: right;\">\n      <th></th>\n      <th>Death Date</th>\n      <th>Death Time</th>\n      <th>Manner of Death</th>\n      <th>Age</th>\n      <th>Sex</th>\n      <th>Race</th>\n      <th>Case Dispo</th>\n      <th>Combined OD1</th>\n      <th>Combined OD2</th>\n      <th>Combined OD3</th>\n      <th>Combined OD4</th>\n      <th>Combined OD5</th>\n      <th>Combined OD6</th>\n      <th>Combined OD7</th>\n      <th>Incident Zip</th>\n      <th>Decedent Zip</th>\n      <th>Case Year</th>\n    </tr>\n  </thead>\n  <tbody>\n    <tr>\n      <th>0</th>\n      <td>1/1/2017</td>\n      <td>5:55 AM</td>\n      <td>Accidents</td>\n      <td>57</td>\n      <td>Male</td>\n      <td>Black or African American</td>\n      <td>MO</td>\n      <td>Alcohol</td>\n      <td>Cocaine</td>\n      <td>Fentanyl</td>\n      <td>NaN</td>\n      <td>NaN</td>\n      <td>NaN</td>\n      <td>NaN</td>\n      <td>15219</td>\n      <td>15202.0</td>\n      <td>2017</td>\n    </tr>\n    <tr>\n      <th>1</th>\n      <td>1/1/2017</td>\n      <td>8:12 AM</td>\n      <td>Accident</td>\n      <td>39</td>\n      <td>Male</td>\n      <td>White</td>\n      <td>MO</td>\n      <td>Amitriptyline</td>\n      <td>Heroin</td>\n      <td>Nortriptyline</td>\n      <td>Oxymorphone</td>\n      <td>NaN</td>\n      <td>NaN</td>\n      <td>NaN</td>\n      <td>15216</td>\n      <td>15216.0</td>\n      <td>2017</td>\n    </tr>\n    <tr>\n      <th>2</th>\n      <td>1/1/2017</td>\n      <td>9:13 AM</td>\n      <td>Accident</td>\n      <td>20</td>\n      <td>Male</td>\n      <td>White</td>\n      <td>MO</td>\n      <td>Diphenhydramine</td>\n      <td>Fentanyl</td>\n      <td>Mirtazapine</td>\n      <td>NaN</td>\n      <td>NaN</td>\n      <td>NaN</td>\n      <td>NaN</td>\n      <td>15101</td>\n      <td>15101.0</td>\n      <td>2017</td>\n    </tr>\n    <tr>\n      <th>3</th>\n      <td>1/1/2017</td>\n      <td>2:11 PM</td>\n      <td>Accident</td>\n      <td>28</td>\n      <td>Male</td>\n      <td>White</td>\n      <td>MO</td>\n      <td>Fentanyl</td>\n      <td>Furanyl Fentanyl</td>\n      <td>Heroin</td>\n      <td>U-47700 Synthetic Opioid</td>\n      <td>NaN</td>\n      <td>NaN</td>\n      <td>NaN</td>\n      <td>15210</td>\n      <td>15210.0</td>\n      <td>2017</td>\n    </tr>\n    <tr>\n      <th>4</th>\n      <td>1/1/2017</td>\n      <td>5:21 PM</td>\n      <td>Accident</td>\n      <td>29</td>\n      <td>Male</td>\n      <td>White</td>\n      <td>MO</td>\n      <td>Fentanyl</td>\n      <td>NaN</td>\n      <td>NaN</td>\n      <td>NaN</td>\n      <td>NaN</td>\n      <td>NaN</td>\n      <td>NaN</td>\n      <td>15206</td>\n      <td>15206.0</td>\n      <td>2017</td>\n    </tr>\n  </tbody>\n</table>\n</div>",
                        "text/plain": "  Death Date Death Time Manner of Death  Age   Sex                       Race  \\\n0   1/1/2017    5:55 AM       Accidents   57  Male  Black or African American   \n1   1/1/2017    8:12 AM        Accident   39  Male                      White   \n2   1/1/2017    9:13 AM        Accident   20  Male                      White   \n3   1/1/2017    2:11 PM        Accident   28  Male                      White   \n4   1/1/2017    5:21 PM        Accident   29  Male                      White   \n\n  Case Dispo     Combined OD1      Combined OD2   Combined OD3  \\\n0         MO          Alcohol           Cocaine       Fentanyl   \n1         MO    Amitriptyline            Heroin  Nortriptyline   \n2         MO  Diphenhydramine          Fentanyl    Mirtazapine   \n3         MO         Fentanyl  Furanyl Fentanyl         Heroin   \n4         MO         Fentanyl               NaN            NaN   \n\n               Combined OD4 Combined OD5 Combined OD6 Combined OD7  \\\n0                       NaN          NaN          NaN          NaN   \n1               Oxymorphone          NaN          NaN          NaN   \n2                       NaN          NaN          NaN          NaN   \n3  U-47700 Synthetic Opioid          NaN          NaN          NaN   \n4                       NaN          NaN          NaN          NaN   \n\n  Incident Zip  Decedent Zip  Case Year  \n0        15219       15202.0       2017  \n1        15216       15216.0       2017  \n2        15101       15101.0       2017  \n3        15210       15210.0       2017  \n4        15206       15206.0       2017  "
                    },
                    "execution_count": 12,
                    "metadata": {},
                    "output_type": "execute_result"
                }
            ],
            "source": "path=r\"C:\\Users\\Olawale\\Documents\\crimelabaccidentaldrugdeathsextract2017.csv\"\npitt_opioid=pd.read_csv(path, engine='python')\npitt_opioid.head()"
        },
        {
            "cell_type": "code",
            "execution_count": null,
            "metadata": {},
            "outputs": [],
            "source": ""
        }
    ],
    "metadata": {
        "kernelspec": {
            "display_name": "Python 3",
            "language": "python",
            "name": "python3"
        },
        "language_info": {
            "codemirror_mode": {
                "name": "ipython",
                "version": 3
            },
            "file_extension": ".py",
            "mimetype": "text/x-python",
            "name": "python",
            "nbconvert_exporter": "python",
            "pygments_lexer": "ipython3",
            "version": "3.7.3"
        }
    },
    "nbformat": 4,
    "nbformat_minor": 1
}