{
    "cells": [
        {
            "cell_type": "markdown",
            "metadata": {},
            "source": "# Clustering Neighborhoods in Pittsburgh for Pharmacy Location Intelligence"
        },
        {
            "cell_type": "markdown",
            "metadata": {},
            "source": "This is a project for my IBM Data Science Capstone on Coursera."
        },
        {
            "cell_type": "markdown",
            "metadata": {},
            "source": "# Introduction"
        },
        {
            "cell_type": "markdown",
            "metadata": {},
            "source": "The importance of Pharmacies in neighborhoods cannot be over emphasized. About 70% of Americans are on at least one prescription drug and over 50% of Americans are on at least two prescription drugs. In some communities, Pharmacists may be the sole source of clinical advice to the people. \n\nSome experts argue that, given the widening scope of services many pharmacies are providing, including physicals, immunizations, drug counseling, sexually transmitted infection screening, other laboratory testing and even access to naloxone, the medication used to reverse opioid overdose. Pharmacies are increasingly important pieces of the national conversation around health care.\n\nThis project will focus on clustering pittsburgh neighborhoods for pharmacy location intelligence. I will be using the Foursquare API for location analysis. I will perform data mining and data preparation using required libraries such as pandas, numpy etc. I will segment and cluster neighborhoods using the k-means algorithm. The folium library will be used to visualize the neighborhoods and their respective clusters."
        },
        {
            "cell_type": "markdown",
            "metadata": {},
            "source": "# Business Problem"
        },
        {
            "cell_type": "markdown",
            "metadata": {},
            "source": "Pittsburgh is a city in the state of Pennsylvania with a population of about 302,407(2018) and is the county seat of Allegheny. Allegheny County historically has been one of the oldest counties in the US. This emphasizes one of the importance of pharmacy in the county's neighborhood. Most seniors who have healthcare needs such as refilling their prescription may not have the opportunity of driving miles which in effect may cause them not taking their medications consistently. \n\nIn some areas where there is demonstrable need for access to naloxone, pharmacy closures or lack thereof can frustrate treatment. A research conducted in Cook county, Illinois shows that community areas where opioid-related deaths are higher than the Chicago average are in areas where as at 2017 has one or fewer active pharmacies. \u201cA lot of public attention focuses on insurance, but that\u2019s not enough, even if medications are affordable, if the pharmacy isn\u2019t accessible, they're not accessible.\u201d Dima Qato.\n\nThis project is targeted at independent pharmacies, chain pharmacies, the City of Pittsburgh, and other healthcare stakeholders\n"
        },
        {
            "cell_type": "code",
            "execution_count": null,
            "metadata": {},
            "outputs": [],
            "source": ""
        }
    ],
    "metadata": {
        "kernelspec": {
            "display_name": "Python 3.6",
            "language": "python",
            "name": "python3"
        },
        "language_info": {
            "codemirror_mode": {
                "name": "ipython",
                "version": 3
            },
            "file_extension": ".py",
            "mimetype": "text/x-python",
            "name": "python",
            "nbconvert_exporter": "python",
            "pygments_lexer": "ipython3",
            "version": "3.6.9"
        }
    },
    "nbformat": 4,
    "nbformat_minor": 1
}